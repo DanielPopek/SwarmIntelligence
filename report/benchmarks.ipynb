{
 "cells": [
  {
   "cell_type": "code",
   "execution_count": 9,
   "metadata": {},
   "outputs": [],
   "source": [
    "import numpy as np\n",
    "import math\n",
    "\n",
    "# from deap.benchmarks import schwefel"
   ]
  },
  {
   "cell_type": "code",
   "execution_count": 10,
   "metadata": {},
   "outputs": [],
   "source": [
    "class ObjectiveFunction(object):\n",
    "\n",
    "    def __init__(self, name, dim, minf, maxf):\n",
    "        self.name = name\n",
    "        self.dim = dim\n",
    "        self.minf = minf\n",
    "        self.maxf = maxf\n",
    "\n",
    "    def sample(self):\n",
    "        return np.random.uniform(low=self.minf, high=self.maxf, size=self.dim)\n",
    "\n",
    "    def custom_sample(self):\n",
    "        return np.repeat(self.minf, repeats=self.dim) \\\n",
    "               + np.random.uniform(low=0, high=1, size=self.dim) * \\\n",
    "               np.repeat(self.maxf - self.minf, repeats=self.dim)\n",
    "\n",
    "    def evaluate(self, x):\n",
    "        pass"
   ]
  },
  {
   "cell_type": "code",
   "execution_count": 3,
   "metadata": {},
   "outputs": [],
   "source": [
    "class Rastrigin(ObjectiveFunction):\n",
    "\n",
    "    def __init__(self, dim):\n",
    "        super(Rastrigin, self).__init__('Rastrigin', dim, -5.12, 5.12)\n",
    "\n",
    "    def evaluate(self, x):\n",
    "        return 10 * len(x) + np.sum(np.power(x, 2) - 10 * np.cos(2 * np.pi * np.array(x)))"
   ]
  },
  {
   "cell_type": "code",
   "execution_count": 4,
   "metadata": {},
   "outputs": [],
   "source": [
    "class Schwefel(ObjectiveFunction):\n",
    "\n",
    "    def __init__(self, dim):\n",
    "        super(Schwefel, self).__init__('Schwefel', dim, -500.0, 500.0)\n",
    "\n",
    "    def evaluate(self, x):\n",
    "        if len(x[x > self.maxf]) > 0 or len(x[x < self.minf]) > 0:\n",
    "            return 100000\n",
    "        return schwefel(x)[0]"
   ]
  },
  {
   "cell_type": "code",
   "execution_count": 5,
   "metadata": {},
   "outputs": [],
   "source": [
    "class Ackley(ObjectiveFunction):\n",
    "\n",
    "    def __init__(self, dim):\n",
    "        super(Ackley, self).__init__('Ackley', dim, -25.0, 25.0)\n",
    "\n",
    "    def evaluate(self, x):\n",
    "        first_sum = 0.0\n",
    "        second_sum = 0.0\n",
    "        if x.shape[0] == 1:\n",
    "            x = x[0]\n",
    "        for c in x:\n",
    "            first_sum += c ** 2.0\n",
    "            second_sum += np.math.cos(2.0 * np.math.pi * c)\n",
    "        n = float(len(x))\n",
    "        return -20.0 * np.math.exp(-0.2 * np.math.sqrt(first_sum / n)) - np.math.exp(second_sum / n) + 20 + np.math.e"
   ]
  },
  {
   "cell_type": "code",
   "execution_count": null,
   "metadata": {},
   "outputs": [],
   "source": []
  }
 ],
 "metadata": {
  "kernelspec": {
   "display_name": "Python 3",
   "language": "python",
   "name": "python3"
  },
  "language_info": {
   "codemirror_mode": {
    "name": "ipython",
    "version": 3
   },
   "file_extension": ".py",
   "mimetype": "text/x-python",
   "name": "python",
   "nbconvert_exporter": "python",
   "pygments_lexer": "ipython3",
   "version": "3.6.8"
  }
 },
 "nbformat": 4,
 "nbformat_minor": 2
}
